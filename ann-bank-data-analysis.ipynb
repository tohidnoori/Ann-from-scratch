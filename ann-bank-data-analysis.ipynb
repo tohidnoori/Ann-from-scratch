{
 "cells": [
  {
   "cell_type": "code",
   "execution_count": 2,
   "id": "dc94a1f5-1f07-4300-bfa9-97625671b0b1",
   "metadata": {},
   "outputs": [],
   "source": [
    "import numpy as np\n",
    "import pandas as pd\n",
    "import matplotlib.pyplot as plt # matplotlib is for drawing graphs\n",
    "import matplotlib.colors as colors\n",
    "from sklearn.utils import resample # downsample the dataset\n",
    "from sklearn.model_selection import train_test_split # split data into training and testing sets\n",
    "from sklearn.preprocessing import StandardScaler\n",
    "from sklearn.svm import SVC # this will make a support vector machine for classificaiton\n",
    "from sklearn.model_selection import GridSearchCV #this will do cross validation\n",
    "from sklearn.metrics import confusion_matrix # this creates a confusion matrix\n",
    "from sklearn.decomposition import PCA # to perform PCA to plot the data\n",
    "from sklearn.metrics import precision_score, accuracy_score, recall_score\n",
    "from sklearn.metrics import confusion_matrix,ConfusionMatrixDisplay\n",
    "from sklearn.metrics import roc_curve, auc"
   ]
  },
  {
   "cell_type": "code",
   "execution_count": 3,
   "id": "cd238aca-5349-409e-ba7f-7d07d44a0d6c",
   "metadata": {},
   "outputs": [
    {
     "name": "stdout",
     "output_type": "stream",
     "text": [
      "pre-proccessing\n"
     ]
    }
   ],
   "source": [
    "df = pd.read_csv(\"default of credit card clients.txt\",sep='\\t',header=1)\n",
    "df.drop('ID',axis=1,inplace=True)\n",
    "df.rename(columns={'default payment next month': 'DEFAULT'}, inplace=True)\n",
    "df_no_missing = df.loc[(df['MARRIAGE']!=0) & (df['EDUCATION']!=0)]\n",
    "df_no_missing.head()\n",
    "df_no_default = df_no_missing[df_no_missing['DEFAULT']==0]\n",
    "df_default = df_no_missing[df_no_missing['DEFAULT']==1]\n",
    "df_no_default_downsampled = resample(df_no_default,replace=False,n_samples=1000,random_state=42)\n",
    "df_default_downsampled = resample(df_default,replace=False,n_samples=1000,random_state=42)\n",
    "df_downsampled = pd.concat([df_no_default_downsampled,df_default_downsampled])\n",
    "X = df_downsampled.drop(['DEFAULT','SEX','EDUCATION','MARRIAGE','PAY_0','PAY_2','PAY_3','PAY_4','PAY_5','PAY_6'],axis=1).copy()\n",
    "y = df_downsampled['DEFAULT'].copy()\n",
    "#X_encoded = pd.get_dummies(X,columns=['SEX','EDUCATION','MARRIAGE','PAY_0','PAY_2','PAY_3','PAY_4','PAY_5','PAY_6']).astype(int)\n",
    "X_train,X_test,y_train,y_test = train_test_split(X,y,random_state=42)\n",
    "scaler = StandardScaler()\n",
    "X_train_scaled = scaler.fit_transform(X_train)\n",
    "X_test_scaled = scaler.fit_transform(X_test)\n",
    "print(\"pre-proccessing\");"
   ]
  },
  {
   "cell_type": "code",
   "execution_count": 119,
   "id": "c73b690e-ed53-41ba-a4a9-66bdcc5acaca",
   "metadata": {},
   "outputs": [
    {
     "name": "stdout",
     "output_type": "stream",
     "text": [
      "Number of columns: 14\n"
     ]
    }
   ],
   "source": [
    "print(f\"Number of columns: {X_train_scaled.shape[1]}\")\n",
    "input_nodes_num = X_train_scaled.shape[1]\n",
    "hidden_nodes_num = 8\n",
    "output_nodes_num = 1\n",
    "np.random.seed(42)\n",
    "\n",
    "#hidden-input layer wieghts and biases\n",
    "input_hidden_weights = np.random.randn(input_nodes_num,hidden_nodes_num)\n",
    "input_hidden_baises = np.random.randn(hidden_nodes_num)\n",
    "\n",
    "#hidden-output layer wieghts and biases\n",
    "hidden_out_weights = np.random.randn(hidden_nodes_num,output_nodes_num)\n",
    "hidden_out_baises=0"
   ]
  },
  {
   "cell_type": "code",
   "execution_count": 133,
   "id": "ca195943-da61-4163-b0a7-2d02f1669877",
   "metadata": {},
   "outputs": [
    {
     "name": "stdout",
     "output_type": "stream",
     "text": [
      "998758.9288417782\n",
      "102951.65367016835\n"
     ]
    }
   ],
   "source": [
    "#sum of squared residuals\n",
    "ssr = 0;\n",
    "predicated_values = []\n",
    "hidden_out_baises = 0\n",
    "for i in range(0,len(X_train_scaled)):\n",
    "    input_nodes = X_train_scaled[i]\n",
    "    pred = forward(input_nodes)\n",
    "    real = y_train.iloc[i]\n",
    "    predicated_values.append(pred)\n",
    "    \n",
    "predicated_values = np.array(predicated_values)\n",
    "observed_values =  y_train.to_numpy()\n",
    "ssr = np.sum((predicated_values-observed_values)**2)\n",
    "print(ssr)\n",
    "equation1 = r'$\\frac{\\partial \\text{Ssr}}{\\partial b} = \\frac{\\partial \\text{Ssr}}{\\partial \\text{pred}} \\cdot \\frac{\\partial \\text{pred}}{\\partial b}$'\n",
    "equation2 = r'$\\frac{\\partial \\text{Ssr}}{\\partial \\text{pred}} = \\sum\\frac{\\partial (pred - real)^{2}}{\\partial \\text{pred}} = \\sum2(pred - real)$'\n",
    "equation3 = r'$\\frac{\\partial \\text{pred}}{\\partial \\text{b}} = \\frac{\\partial sigmoid(out)}{\\partial \\text{b}} = \\frac{d}{db}sigmoid(out)*1$'    \n",
    "# Compute dSSR_dpred\n",
    "db = np.sum(2 * (predicated_values - observed_values)*predicated_values*(1-predicated_values))\n",
    "\n",
    "print(dSSR_dpred)\n",
    "#plotEquations(equation1,equation2,equation3)\n"
   ]
  },
  {
   "cell_type": "code",
   "execution_count": 123,
   "id": "334d81fa-f786-48e1-ae60-05b274f9bc63",
   "metadata": {},
   "outputs": [],
   "source": [
    "def forward(input_nodes):\n",
    "    #input-nodes\n",
    "    input_nodes = a;\n",
    "    #initialize hidden nodes\n",
    "    hidden_nodes = np.dot(input_nodes,input_hidden_weights)\n",
    "    hidden_nodes = np.add(hidden_nodes,input_hidden_baises)\n",
    "    hidden_nodes = relu(hidden_nodes)\n",
    "    #initialize out node\n",
    "    output_node = np.dot(hidden_nodes,hidden_out_weights)\n",
    "    output_node = np.add(output_node,hidden_out_baises)\n",
    "    predictions = sigmoid(output_node)\n",
    "    return predictions\n",
    "    \n",
    "def plotEquations(q1,q2,q3):\n",
    "    import matplotlib.pyplot as plt\n",
    "\n",
    "    fig, ax = plt.subplots()\n",
    "\n",
    "    ax.axis('off')\n",
    "    \n",
    "    ax.text(0.5, 0.7, q1, fontsize=20, ha='center', va='center')\n",
    "    \n",
    "    ax.text(0.5, 0.5, q2, fontsize=20, ha='center', va='center')\n",
    "    \n",
    "    ax.text(0.5, 0.3, q3, fontsize=20, ha='center', va='center')\n",
    "    \n",
    "    plt.savefig('equations.png', bbox_inches='tight', pad_inches=0.1, dpi=300)\n",
    "    plt.show()\n",
    "def sigmoid(x):\n",
    "    return 1 / (1 + np.exp(-x))\n",
    "def relu(x):\n",
    "    return np.maximum(0, x) \n",
    "def sigmoid_derivative(x):\n",
    "    sigmoid_x = sigmoid(x)\n",
    "    return sigmoid_x * (1 - sigmoid_x)"
   ]
  },
  {
   "cell_type": "code",
   "execution_count": null,
   "id": "467410f5-1f14-4dae-aa71-7f2b320fad1b",
   "metadata": {},
   "outputs": [],
   "source": []
  }
 ],
 "metadata": {
  "kernelspec": {
   "display_name": "Python 3 (ipykernel)",
   "language": "python",
   "name": "python3"
  },
  "language_info": {
   "codemirror_mode": {
    "name": "ipython",
    "version": 3
   },
   "file_extension": ".py",
   "mimetype": "text/x-python",
   "name": "python",
   "nbconvert_exporter": "python",
   "pygments_lexer": "ipython3",
   "version": "3.12.1"
  }
 },
 "nbformat": 4,
 "nbformat_minor": 5
}
