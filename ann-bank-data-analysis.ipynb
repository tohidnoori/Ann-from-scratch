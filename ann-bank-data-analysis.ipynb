{
 "cells": [
  {
   "cell_type": "code",
   "execution_count": 1,
   "id": "dc94a1f5-1f07-4300-bfa9-97625671b0b1",
   "metadata": {},
   "outputs": [],
   "source": [
    "import numpy as np\n",
    "import pandas as pd\n",
    "import matplotlib.pyplot as plt # matplotlib is for drawing graphs\n",
    "import matplotlib.colors as colors\n",
    "from sklearn.utils import resample # downsample the dataset\n",
    "from sklearn.model_selection import train_test_split # split data into training and testing sets\n",
    "from sklearn.preprocessing import StandardScaler\n",
    "from sklearn.svm import SVC # this will make a support vector machine for classificaiton\n",
    "from sklearn.model_selection import GridSearchCV #this will do cross validation\n",
    "from sklearn.metrics import confusion_matrix # this creates a confusion matrix\n",
    "from sklearn.decomposition import PCA # to perform PCA to plot the data\n",
    "from sklearn.metrics import precision_score, accuracy_score, recall_score\n",
    "from sklearn.metrics import confusion_matrix,ConfusionMatrixDisplay\n",
    "from sklearn.metrics import roc_curve, auc"
   ]
  },
  {
   "cell_type": "code",
   "execution_count": 40,
   "id": "cd238aca-5349-409e-ba7f-7d07d44a0d6c",
   "metadata": {},
   "outputs": [
    {
     "name": "stdout",
     "output_type": "stream",
     "text": [
      "pre-proccessing\n"
     ]
    }
   ],
   "source": [
    "df = pd.read_csv(\"default of credit card clients.txt\",sep='\\t',header=1)\n",
    "df.drop('ID',axis=1,inplace=True)\n",
    "df.rename(columns={'default payment next month': 'DEFAULT'}, inplace=True)\n",
    "df_no_missing = df.loc[(df['MARRIAGE']!=0) & (df['EDUCATION']!=0)]\n",
    "df_no_missing.head()\n",
    "df_no_default = df_no_missing[df_no_missing['DEFAULT']==0]\n",
    "df_default = df_no_missing[df_no_missing['DEFAULT']==1]\n",
    "df_no_default_downsampled = resample(df_no_default,replace=False,n_samples=1000,random_state=42)\n",
    "df_default_downsampled = resample(df_default,replace=False,n_samples=1000,random_state=42)\n",
    "df_downsampled = pd.concat([df_no_default_downsampled,df_default_downsampled])\n",
    "X = df_downsampled.drop(['DEFAULT','SEX','EDUCATION','MARRIAGE','PAY_0','PAY_2','PAY_3','PAY_4','PAY_5','PAY_6'],axis=1).copy()\n",
    "y = df_downsampled['DEFAULT'].copy()\n",
    "#X_encoded = pd.get_dummies(X,columns=['SEX','EDUCATION','MARRIAGE','PAY_0','PAY_2','PAY_3','PAY_4','PAY_5','PAY_6']).astype(int)\n",
    "X_train,X_test,y_train,y_test = train_test_split(X,y,random_state=42)\n",
    "scaler = StandardScaler()\n",
    "X_train_scaled = scaler.fit_transform(X_train)\n",
    "X_test_scaled = scaler.fit_transform(X_test)\n",
    "print(\"pre-proccessing\");"
   ]
  },
  {
   "cell_type": "code",
   "execution_count": 73,
   "id": "c73b690e-ed53-41ba-a4a9-66bdcc5acaca",
   "metadata": {},
   "outputs": [
    {
     "name": "stdout",
     "output_type": "stream",
     "text": [
      "Number of columns: 14\n",
      "14\n"
     ]
    }
   ],
   "source": [
    "print(f\"Number of columns: {X_train.shape[1]}\")\n",
    "input_nodes_num = X_train_scaled.shape[1]\n",
    "print(input_nodes_num)\n",
    "hidden_nodes_num = 8\n",
    "output_nodes_num = 1\n",
    "def sigmoid(x):\n",
    "    return 1 / (1 + np.exp(-x))\n",
    "def relu(x):\n",
    "    return np.maximum(0, x)"
   ]
  },
  {
   "cell_type": "code",
   "execution_count": 70,
   "id": "ca195943-da61-4163-b0a7-2d02f1669877",
   "metadata": {},
   "outputs": [],
   "source": [
    "np.random.seed(42)\n",
    "\n",
    "for()\n",
    "#input-nodes\n",
    "input_nodes = np.random.randn(input_nodes_num)\n",
    "\n",
    "#hidden-input layer wieghts and biases\n",
    "input_hidden_weights = np.random.randn(input_nodes_num,hidden_nodes_num)\n",
    "input_hidden_baises = np.random.randn(hidden_nodes_num)\n",
    "\n",
    "#hidden-output layer wieghts and biases\n",
    "hidden_out_weights = np.random.randn(hidden_nodes_num,output_nodes_num)\n",
    "hidden_out_baises = np.random.randn(output_nodes_num)"
   ]
  },
  {
   "cell_type": "code",
   "execution_count": 71,
   "id": "fece716d-4df2-4dc8-86ca-1eeaaa30e620",
   "metadata": {},
   "outputs": [],
   "source": [
    "#initialize hidden nodes\n",
    "hidden_nodes = np.dot(input_nodes,input_hidden_weights)\n",
    "hidden_nodes = np.add(hidden_nodes,input_hidden_baises)\n",
    "hidden_nodes = relu(hidden_nodes)"
   ]
  },
  {
   "cell_type": "code",
   "execution_count": 72,
   "id": "334d81fa-f786-48e1-ae60-05b274f9bc63",
   "metadata": {},
   "outputs": [
    {
     "name": "stdout",
     "output_type": "stream",
     "text": [
      "[0.00053376]\n"
     ]
    }
   ],
   "source": [
    "#initialize out node\n",
    "output_node = np.dot(hidden_nodes,hidden_out_weights)\n",
    "output_node = np.add(output_node,hidden_out_baises)\n",
    "output_node = sigmoid(output_node)\n",
    "print(output_node)"
   ]
  },
  {
   "cell_type": "code",
   "execution_count": null,
   "id": "467410f5-1f14-4dae-aa71-7f2b320fad1b",
   "metadata": {},
   "outputs": [],
   "source": []
  }
 ],
 "metadata": {
  "kernelspec": {
   "display_name": "Python 3 (ipykernel)",
   "language": "python",
   "name": "python3"
  },
  "language_info": {
   "codemirror_mode": {
    "name": "ipython",
    "version": 3
   },
   "file_extension": ".py",
   "mimetype": "text/x-python",
   "name": "python",
   "nbconvert_exporter": "python",
   "pygments_lexer": "ipython3",
   "version": "3.12.1"
  }
 },
 "nbformat": 4,
 "nbformat_minor": 5
}
